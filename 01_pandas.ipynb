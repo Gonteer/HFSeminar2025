{
 "cells": [
  {
   "cell_type": "code",
   "execution_count": null,
   "metadata": {},
   "outputs": [],
   "source": [
    "import pandas as pd\n",
    "df = pd.read_excel('countries.xlsx',sheet_name='Sheet1')\n",
    "#df = pd.read_excel('countries.xlsx',sheet_name='Sheet1',index_col=0)\n",
    "\n",
    "df"
   ]
  },
  {
   "cell_type": "code",
   "execution_count": null,
   "metadata": {},
   "outputs": [],
   "source": [
    "import pandas as pd\n",
    "df_my_index = pd.read_excel('countries.xlsx',sheet_name='Sheet1', index_col = 0)\n",
    "df_no_index = pd.read_excel('countries.xlsx',sheet_name='Sheet1')\n",
    "print(df_my_index['population'])\n",
    "print(df_no_index['population'])"
   ]
  },
  {
   "cell_type": "code",
   "execution_count": null,
   "metadata": {},
   "outputs": [],
   "source": [
    "import pandas as pd\n",
    "df_my_index = pd.read_excel('countries.xlsx',sheet_name='Sheet1', index_col = 0)\n",
    "print(df_my_index[['area','population']])"
   ]
  },
  {
   "cell_type": "code",
   "execution_count": null,
   "metadata": {},
   "outputs": [],
   "source": [
    "import pandas as pd\n",
    "import matplotlib.pyplot as plt\n",
    "\n",
    "contires_df = pd.read_excel('countries.xlsx',sheet_name='Sheet1', index_col = 0)\n",
    "\n",
    "contires_df['population'].plot(kind='bar',color=('b','darkorange','g','r','m'))\n",
    "plt.show()\n",
    "\n",
    "contires_df['population'].plot(kind='pie')\n",
    "plt.show()"
   ]
  },
  {
   "cell_type": "code",
   "execution_count": null,
   "metadata": {},
   "outputs": [],
   "source": [
    "import pandas as pd\n",
    "import matplotlib.pyplot as plt\n",
    "\n",
    "weather = pd.read_excel('weather.xlsx',sheet_name='Sheet1', index_col = 0)\n",
    "\n",
    "weather['평균풍속'].plot(kind='hist',bins=33)\n",
    "plt.show()\n"
   ]
  },
  {
   "cell_type": "code",
   "execution_count": null,
   "metadata": {},
   "outputs": [],
   "source": [
    "import pandas as pd\n",
    "import matplotlib.pyplot as plt\n",
    "\n",
    "contires_df = pd.read_excel('countries.xlsx',sheet_name='Sheet1', index_col = 0)\n",
    "contires_df['density'] = contires_df['population'] / contires_df['area'] \n",
    "contires_df"
   ]
  },
  {
   "cell_type": "code",
   "execution_count": 2,
   "metadata": {},
   "outputs": [],
   "source": [
    "#엑셀 파일로 저장\n",
    "contires_df.to_excel(\"result.xlsx\")"
   ]
  },
  {
   "cell_type": "code",
   "execution_count": null,
   "metadata": {},
   "outputs": [],
   "source": [
    "import pandas as pd\n",
    "\n",
    "weather = pd.read_excel('weather.xlsx',sheet_name='Sheet1',index_col=0)\n",
    "\n",
    "weather.describe()"
   ]
  },
  {
   "cell_type": "code",
   "execution_count": null,
   "metadata": {},
   "outputs": [],
   "source": [
    "import pandas as pd\n",
    "\n",
    "weather = pd.read_excel('weather.xlsx',sheet_name='Sheet1')\n",
    "\n",
    "weather['month'] = pd.DatetimeIndex(weather['일시']).month\n",
    "\n",
    "print(weather.head())\n",
    "#weather.tail()\n",
    "means = weather.groupby('month').mean()\n",
    "print(means)\n",
    "\n",
    "# weather['year'] = pd.DatetimeIndex(weather['일시']).year\n",
    "# y_means = weather.groupby('year').mean()\n",
    "# print(y_means.tail)\n",
    "\n",
    "\n",
    "# y_max = weather.groupby('year').max(numeric_only=True)\n",
    "# print(y_max)\n",
    "\n"
   ]
  }
 ],
 "metadata": {
  "kernelspec": {
   "display_name": "Python 3",
   "language": "python",
   "name": "python3"
  },
  "language_info": {
   "codemirror_mode": {
    "name": "ipython",
    "version": 3
   },
   "file_extension": ".py",
   "mimetype": "text/x-python",
   "name": "python",
   "nbconvert_exporter": "python",
   "pygments_lexer": "ipython3",
   "version": "3.12.2"
  }
 },
 "nbformat": 4,
 "nbformat_minor": 2
}
